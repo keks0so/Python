{
 "cells": [
  {
   "cell_type": "code",
   "execution_count": 10,
   "metadata": {},
   "outputs": [],
   "source": [
    "from datetime import date\n",
    "import speech_recognition as sr\n",
    "import pyttsx3\n",
    "import webbrowser\n",
    "import wikipedia\n",
    "import wolframalpha\n",
    "import pyaudio\n",
    "import os\n",
    "from youtubesearchpython import VideosSearch\n",
    "import urllib.request\n",
    "import re\n",
    "import pyautogui\n",
    "import time\n",
    "\n",
    "\n",
    "\n",
    "\n",
    "engine = pyttsx3.init()\n",
    "voices = engine.getProperty('voices')\n",
    "engine.setProperty('voice', voices[0].id) #0 - male 1 - female\n",
    "\n",
    "wikipedia.set_lang('ru')\n",
    "\n",
    "activationWord = 'вильгельм'\n",
    "\n",
    "chrome_path = r\"C:\\Program Files (x86)\\Google\\Chrome\\Application\\chrome.exe\"\n",
    "webbrowser.register('chrome', None, webbrowser.BackgroundBrowser(chrome_path))"
   ]
  },
  {
   "cell_type": "code",
   "execution_count": 11,
   "metadata": {},
   "outputs": [],
   "source": [
    "def speak(text, rate = 220):\n",
    "    engine.setProperty('rate', rate)\n",
    "    engine.say(text)\n",
    "    engine.runAndWait()\n"
   ]
  },
  {
   "cell_type": "code",
   "execution_count": 12,
   "metadata": {},
   "outputs": [],
   "source": [
    "def parseCommand():\n",
    "    listener = sr.Recognizer()\n",
    "    \n",
    "    with sr.Microphone() as source:\n",
    "        listener.pause_threshold = 2\n",
    "        input_speech = listener.listen(source)\n",
    "    \n",
    "    try:\n",
    "        speak('Ща всё будет')\n",
    "        query = listener.recognize_google(input_speech, language='ru-RU')\n",
    "        print(f\"Ты имел в виду типа: {query}\")\n",
    "    except Exception as e:\n",
    "        print(\"Шо ты сказал\")\n",
    "        speak('БэБэ')\n",
    "        print(e)\n",
    "        return None\n",
    "\n",
    "    return query"
   ]
  },
  {
   "cell_type": "code",
   "execution_count": 14,
   "metadata": {},
   "outputs": [
    {
     "name": "stdout",
     "output_type": "stream",
     "text": [
      "Ты имел в виду типа: Вильгельм музыка\n",
      "['вильгельм', 'музыка']\n",
      "Ты имел в виду типа: Вильгельм Dota\n",
      "['вильгельм', 'dota']\n",
      "Ты имел в виду типа: Вильгельм пока\n",
      "['вильгельм', 'пока']\n",
      "Ты имел в виду типа: Вильгельм прощай\n",
      "['вильгельм', 'прощай']\n"
     ]
    }
   ],
   "source": [
    "#Main loop\n",
    "if __name__ == '__main__':\n",
    "    speak('Слушаю')\n",
    "    f = True\n",
    "    #speak(\"Улитка заходит в бар, но бармен заявляет: У нас строгая политика в отношении улиток! — и ногой выпихивает ее на улицу. Через неделю улитка возвращается в бар и говорит бармену: Ну и нахуя ты это сделал!?\")\n",
    "\n",
    "    while f == True:\n",
    "        # parse as a list\n",
    "        query = parseCommand().lower().split()\n",
    "        #query = query.lower()\n",
    "        print(query)\n",
    "\n",
    "\n",
    "        if activationWord in query:\n",
    "            query.remove(\"вильгельм\")\n",
    "\n",
    "            if \"попроси\" in query:\n",
    "                speak(\"Великоуважаемая Анастасия Степановна отпустите нас пораньше пожалуйста\")\n",
    "\n",
    "\n",
    "\n",
    "            elif \"анекдот\" in query:\n",
    "                speak(\"Улитка заходит в бар, но бармен заявляет: У нас строгая политика в отношении улиток! — и ногой выпихивает ее на улицу. Через неделю улитка возвращается в бар и говорит бармену: Ну и нахуя ты это сделал!?\")\n",
    "\n",
    "            
    "\n",
    "            elif \"dota\" in query:\n",
    "                os.startfile(\"E:/steam/steamapps/common/dota 2 beta/game/bin/win64/dota2.exe\")\n",
    "\n",
    "            elif ((\"что\" in query) and (\"такое\" in query)) or ((\"кто\" in query) and (\"такой\" in query)):\n",
    "                query = ' '.join(query[2:]) \n",
    "                wikipedia.set_lang('ru')\n",
    "                results = wikipedia.summary(query, sentences = 3)\n",
    "                print(results)\n",
    "                speak(\"Короче \")\n",
    "                speak(results)\n",
    "\n",
    "            elif query[0] == 'загугли':\n",
    "                speak('Момент...')\n",
    "                query = ' '.join(query[1:])\n",
    "                webbrowser.get('chrome').open_new(query)\n",
    "\n",
    "            elif (\"музыка\" in query) or (\"музыку\" in query):\n",
    "                url = (\"https://music.yandex.ru/home\")\n",
    "                webbrowser.get('chrome').open_new(url)\n",
    "                time.sleep(5)\n",
    "                pyautogui.press('space')\n",
    "                time.sleep(.2)\n",
    "                pyautogui.keyDown('alt')\n",
    "                time.sleep(.2)\n",
    "                pyautogui.press('tab')\n",
    "                time.sleep(.2)\n",
    "                pyautogui.keyUp('alt')\n",
    "                \n",
    "             \n",
    "            \n",
    "                \n",
    "                \n",
    "                #webbrowser.get('chrome').open_new(\"https://www.youtube.com/watch?v=\" + video_ids[0])\n",
    "\n",
    "            elif query[0] == 'прощай' :\n",
    "                speak('Пока')\n",
    "                f = False\n",
    "        "
   ]
  },
  {
   "cell_type": "code",
   "execution_count": 38,
   "metadata": {},
   "outputs": [
    {
     "data": {
      "text/plain": [
       "'\\nvideo = pafy.new(url)\\nbest = video.getbest()\\nmedia = vlc.MediaPlayer(best.url)\\nmedia.play()\\n'"
      ]
     },
     "execution_count": 38,
     "metadata": {},
     "output_type": "execute_result"
    }
   ],
   "source": [
    "query = \"mozart\"\n",
    "search_keyword = query  \n",
    "\n",
    "\n",
    "html = urllib.request.urlopen(\"https://www.youtube.com/results?search_query=\" + query)\n",
    "video_ids = re.findall(r\"watch\\?v=(\\S{11})\", html.read().decode())\n",
    "url = (\"https://www.youtube.com/watch?v=\" + video_ids[0])\n",
    "webbrowser.get('chrome').open_new(url)\n",
    "'''\n",
    "video = pafy.new(url)\n",
    "best = video.getbest()\n",
    "media = vlc.MediaPlayer(best.url)\n",
    "media.play()\n",
    "'''"
   ]
  }
 ],
 "metadata": {
  "kernelspec": {
   "display_name": "Python 3.10.5 64-bit",
   "language": "python",
   "name": "python3"
  },
  "language_info": {
   "codemirror_mode": {
    "name": "ipython",
    "version": 3
   },
   "file_extension": ".py",
   "mimetype": "text/x-python",
   "name": "python",
   "nbconvert_exporter": "python",
   "pygments_lexer": "ipython3",
   "version": "3.10.5"
  },
  "orig_nbformat": 4,
  "vscode": {
   "interpreter": {
    "hash": "fc7dbe8324dbfa14e22c944ab4cc07309bf692566bf712d7c55e48f1738a1411"
   }
  }
 },
 "nbformat": 4,
 "nbformat_minor": 2
}
